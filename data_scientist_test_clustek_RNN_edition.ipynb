{
  "nbformat": 4,
  "nbformat_minor": 0,
  "metadata": {
    "colab": {
      "name": "data_scientist_test_clustek.ipynb",
      "provenance": [],
      "collapsed_sections": []
    },
    "kernelspec": {
      "name": "python3",
      "display_name": "Python 3"
    },
    "accelerator": "GPU"
  },
  "cells": [
    {
      "cell_type": "code",
      "metadata": {
        "id": "GNkzTFfynsmV",
        "colab_type": "code",
        "colab": {
          "base_uri": "https://localhost:8080/",
          "height": 712
        },
        "outputId": "79cd7067-5d89-4f8d-f854-9bbe9a982117"
      },
      "source": [
        "!pip install tensorflow==2.0.0b1"
      ],
      "execution_count": 2,
      "outputs": [
        {
          "output_type": "stream",
          "text": [
            "Collecting tensorflow==2.0.0b1\n",
            "\u001b[?25l  Downloading https://files.pythonhosted.org/packages/29/6c/2c9a5c4d095c63c2fb37d20def0e4f92685f7aee9243d6aae25862694fd1/tensorflow-2.0.0b1-cp36-cp36m-manylinux1_x86_64.whl (87.9MB)\n",
            "\u001b[K     |████████████████████████████████| 87.9MB 50kB/s \n",
            "\u001b[?25hRequirement already satisfied: google-pasta>=0.1.6 in /usr/local/lib/python3.6/dist-packages (from tensorflow==2.0.0b1) (0.1.8)\n",
            "Requirement already satisfied: termcolor>=1.1.0 in /usr/local/lib/python3.6/dist-packages (from tensorflow==2.0.0b1) (1.1.0)\n",
            "Requirement already satisfied: six>=1.10.0 in /usr/local/lib/python3.6/dist-packages (from tensorflow==2.0.0b1) (1.12.0)\n",
            "Requirement already satisfied: astor>=0.6.0 in /usr/local/lib/python3.6/dist-packages (from tensorflow==2.0.0b1) (0.8.1)\n",
            "Requirement already satisfied: protobuf>=3.6.1 in /usr/local/lib/python3.6/dist-packages (from tensorflow==2.0.0b1) (3.10.0)\n",
            "Requirement already satisfied: gast>=0.2.0 in /usr/local/lib/python3.6/dist-packages (from tensorflow==2.0.0b1) (0.2.2)\n",
            "Requirement already satisfied: numpy<2.0,>=1.14.5 in /usr/local/lib/python3.6/dist-packages (from tensorflow==2.0.0b1) (1.17.5)\n",
            "Requirement already satisfied: grpcio>=1.8.6 in /usr/local/lib/python3.6/dist-packages (from tensorflow==2.0.0b1) (1.15.0)\n",
            "Requirement already satisfied: keras-preprocessing>=1.0.5 in /usr/local/lib/python3.6/dist-packages (from tensorflow==2.0.0b1) (1.1.0)\n",
            "Collecting tf-estimator-nightly<1.14.0.dev2019060502,>=1.14.0.dev2019060501\n",
            "\u001b[?25l  Downloading https://files.pythonhosted.org/packages/32/dd/99c47dd007dcf10d63fd895611b063732646f23059c618a373e85019eb0e/tf_estimator_nightly-1.14.0.dev2019060501-py2.py3-none-any.whl (496kB)\n",
            "\u001b[K     |████████████████████████████████| 501kB 43.1MB/s \n",
            "\u001b[?25hRequirement already satisfied: wrapt>=1.11.1 in /usr/local/lib/python3.6/dist-packages (from tensorflow==2.0.0b1) (1.11.2)\n",
            "Requirement already satisfied: keras-applications>=1.0.6 in /usr/local/lib/python3.6/dist-packages (from tensorflow==2.0.0b1) (1.0.8)\n",
            "Collecting tb-nightly<1.14.0a20190604,>=1.14.0a20190603\n",
            "\u001b[?25l  Downloading https://files.pythonhosted.org/packages/a4/96/571b875cd81dda9d5dfa1422a4f9d749e67c0a8d4f4f0b33a4e5f5f35e27/tb_nightly-1.14.0a20190603-py3-none-any.whl (3.1MB)\n",
            "\u001b[K     |████████████████████████████████| 3.1MB 49.9MB/s \n",
            "\u001b[?25hRequirement already satisfied: wheel>=0.26 in /usr/local/lib/python3.6/dist-packages (from tensorflow==2.0.0b1) (0.34.2)\n",
            "Requirement already satisfied: absl-py>=0.7.0 in /usr/local/lib/python3.6/dist-packages (from tensorflow==2.0.0b1) (0.9.0)\n",
            "Requirement already satisfied: setuptools in /usr/local/lib/python3.6/dist-packages (from protobuf>=3.6.1->tensorflow==2.0.0b1) (45.1.0)\n",
            "Requirement already satisfied: h5py in /usr/local/lib/python3.6/dist-packages (from keras-applications>=1.0.6->tensorflow==2.0.0b1) (2.8.0)\n",
            "Requirement already satisfied: markdown>=2.6.8 in /usr/local/lib/python3.6/dist-packages (from tb-nightly<1.14.0a20190604,>=1.14.0a20190603->tensorflow==2.0.0b1) (3.1.1)\n",
            "Requirement already satisfied: werkzeug>=0.11.15 in /usr/local/lib/python3.6/dist-packages (from tb-nightly<1.14.0a20190604,>=1.14.0a20190603->tensorflow==2.0.0b1) (0.16.1)\n",
            "Installing collected packages: tf-estimator-nightly, tb-nightly, tensorflow\n",
            "  Found existing installation: tensorflow 1.15.0\n",
            "    Uninstalling tensorflow-1.15.0:\n",
            "      Successfully uninstalled tensorflow-1.15.0\n",
            "Successfully installed tb-nightly-1.14.0a20190603 tensorflow-2.0.0b1 tf-estimator-nightly-1.14.0.dev2019060501\n"
          ],
          "name": "stdout"
        },
        {
          "output_type": "display_data",
          "data": {
            "application/vnd.colab-display-data+json": {
              "pip_warning": {
                "packages": [
                  "tensorboard",
                  "tensorflow",
                  "tensorflow_estimator"
                ]
              }
            }
          },
          "metadata": {
            "tags": []
          }
        }
      ]
    },
    {
      "cell_type": "code",
      "metadata": {
        "id": "56XEQOGknrAk",
        "colab_type": "code",
        "outputId": "a5835599-d3c8-4a47-b07e-cc0a8fcd23fb",
        "colab": {
          "base_uri": "https://localhost:8080/",
          "height": 36
        }
      },
      "source": [
        "import tensorflow as tf\n",
        "print(tf.__version__)"
      ],
      "execution_count": 2,
      "outputs": [
        {
          "output_type": "stream",
          "text": [
            "2.0.0-beta1\n"
          ],
          "name": "stdout"
        }
      ]
    },
    {
      "cell_type": "code",
      "metadata": {
        "id": "sLl52leVp5wU",
        "colab_type": "code",
        "colab": {}
      },
      "source": [
        "import numpy as np\n",
        "import matplotlib.pyplot as plt\n",
        "def plot_series(time, series, format=\"-\", start=0, end=None):\n",
        "    plt.plot(time[start:end], series[start:end], format)\n",
        "    plt.xlabel(\"Time\")\n",
        "    plt.ylabel(\"Value\")\n",
        "    plt.grid(True)"
      ],
      "execution_count": 0,
      "outputs": []
    },
    {
      "cell_type": "code",
      "metadata": {
        "id": "tP7oqUdkk0gY",
        "colab_type": "code",
        "colab": {
          "base_uri": "https://localhost:8080/",
          "height": 300
        },
        "outputId": "6d26857c-954f-4c43-eb1f-45e1ca3841c0"
      },
      "source": [
        "!wget --no-check-certificate \\\n",
        "    https://drive.google.com/open?id=14_ZtEboEyMyBx2-4b9Bm7H05cbdeBRYN \\\n",
        "    -O /tmp/raw_data.csv"
      ],
      "execution_count": 4,
      "outputs": [
        {
          "output_type": "stream",
          "text": [
            "--2020-02-13 07:01:21--  https://drive.google.com/open?id=14_ZtEboEyMyBx2-4b9Bm7H05cbdeBRYN\n",
            "Resolving drive.google.com (drive.google.com)... 108.177.120.139, 108.177.120.138, 108.177.120.101, ...\n",
            "Connecting to drive.google.com (drive.google.com)|108.177.120.139|:443... connected.\n",
            "HTTP request sent, awaiting response... 307 Temporary Redirect\n",
            "Location: https://drive.google.com/file/d/14_ZtEboEyMyBx2-4b9Bm7H05cbdeBRYN/view?usp=drive_open [following]\n",
            "--2020-02-13 07:01:21--  https://drive.google.com/file/d/14_ZtEboEyMyBx2-4b9Bm7H05cbdeBRYN/view?usp=drive_open\n",
            "Reusing existing connection to drive.google.com:443.\n",
            "HTTP request sent, awaiting response... 200 OK\n",
            "Length: unspecified [text/html]\n",
            "Saving to: ‘/tmp/raw_data.csv’\n",
            "\n",
            "/tmp/raw_data.csv       [ <=>                ]  67.40K  --.-KB/s    in 0.001s  \n",
            "\n",
            "2020-02-13 07:01:21 (51.6 MB/s) - ‘/tmp/raw_data.csv’ saved [69019]\n",
            "\n"
          ],
          "name": "stdout"
        }
      ]
    },
    {
      "cell_type": "code",
      "metadata": {
        "id": "NcG9r1eClbTh",
        "colab_type": "code",
        "outputId": "fa091cac-ad4b-448d-ab4d-e55f6d805efb",
        "colab": {
          "base_uri": "https://localhost:8080/",
          "height": 388
        }
      },
      "source": [
        "import csv\n",
        "time_step = []\n",
        "temps = []\n",
        "\n",
        "with open('/tmp/data(1).csv') as csvfile:\n",
        "  reader = csv.reader(csvfile, delimiter=',')\n",
        "  next(reader)\n",
        "  step=0\n",
        "  for row in reader:\n",
        "    temps.append(float(row[4]))\n",
        "    time_step.append(step)\n",
        "    step = step + 1\n",
        "\n",
        "series = np.array(temps)\n",
        "time = np.array(time_step)\n",
        "plt.figure(figsize=(10, 6))\n",
        "plot_series(time, series)"
      ],
      "execution_count": 22,
      "outputs": [
        {
          "output_type": "display_data",
          "data": {
            "image/png": "[encoded data removed]",
            "text/plain": [
              "<Figure size 720x432 with 1 Axes>"
            ]
          },
          "metadata": {
            "tags": []
          }
        }
      ]
    },
    {
      "cell_type": "code",
      "metadata": {
        "id": "L92YRw_IpCFG",
        "colab_type": "code",
        "colab": {}
      },
      "source": [
        "split_time = int(len(series)*0.99)\n",
        "time_train = time[:split_time]\n",
        "x_train = series[:split_time]\n",
        "time_valid = time[split_time:]\n",
        "x_valid = series[split_time:]\n",
        "\n",
        "window_size = 30\n",
        "batch_size = 32\n",
        "shuffle_buffer_size = 1000\n",
        "\n"
      ],
      "execution_count": 0,
      "outputs": []
    },
    {
      "cell_type": "code",
      "metadata": {
        "id": "lJwUUZscnG38",
        "colab_type": "code",
        "colab": {}
      },
      "source": [
        "def windowed_dataset(series, window_size, batch_size, shuffle_buffer):\n",
        "    series = tf.expand_dims(series, axis=-1)\n",
        "    ds = tf.data.Dataset.from_tensor_slices(series)\n",
        "    ds = ds.window(window_size + 1, shift=1, drop_remainder=True)\n",
        "    ds = ds.flat_map(lambda w: w.batch(window_size + 1))\n",
        "    ds = ds.shuffle(shuffle_buffer)\n",
        "    ds = ds.map(lambda w: (w[:-1], w[1:]))\n",
        "    return ds.batch(batch_size).prefetch(1)"
      ],
      "execution_count": 0,
      "outputs": []
    },
    {
      "cell_type": "code",
      "metadata": {
        "id": "4XwGrf-A_wF0",
        "colab_type": "code",
        "colab": {}
      },
      "source": [
        "def model_forecast(model, series, window_size):\n",
        "    ds = tf.data.Dataset.from_tensor_slices(series)\n",
        "    ds = ds.window(window_size, shift=1, drop_remainder=True)\n",
        "    ds = ds.flat_map(lambda w: w.batch(window_size))\n",
        "    ds = ds.batch(32).prefetch(1)\n",
        "    forecast = model.predict(ds)\n",
        "    return forecast"
      ],
      "execution_count": 0,
      "outputs": []
    },
    {
      "cell_type": "code",
      "metadata": {
        "id": "AclfYY3Mn6Ph",
        "colab_type": "code",
        "outputId": "4a471e5d-4c05-47d5-b8af-f33d3ba7e589",
        "colab": {
          "base_uri": "https://localhost:8080/",
          "height": 1000
        }
      },
      "source": [
        "tf.keras.backend.clear_session()\n",
        "tf.random.set_seed(51)\n",
        "np.random.seed(51)\n",
        "window_size = 64\n",
        "batch_size = 256\n",
        "train_set = windowed_dataset(x_train, window_size, batch_size, shuffle_buffer_size)\n",
        "print(train_set)\n",
        "print(x_train.shape)\n",
        "\n",
        "model = tf.keras.models.Sequential([\n",
        "  tf.keras.layers.Conv1D(filters=32, kernel_size=5,\n",
        "                      strides=1, padding=\"causal\",\n",
        "                      activation=\"relu\",\n",
        "                      input_shape=[None, 1]),\n",
        "  tf.keras.layers.LSTM(64, return_sequences=True),\n",
        "  tf.keras.layers.LSTM(64, return_sequences=True),\n",
        "  tf.keras.layers.Dense(30, activation=\"relu\"),\n",
        "  tf.keras.layers.Dense(10, activation=\"relu\"),\n",
        "  tf.keras.layers.Dense(1),\n",
        "  tf.keras.layers.Lambda(lambda x: x * 4)\n",
        "])\n",
        "\n",
        "lr_schedule = tf.keras.callbacks.LearningRateScheduler(\n",
        "    lambda epoch: 1e-8 * 10**(epoch / 20))\n",
        "optimizer = tf.keras.optimizers.SGD(lr=1e-8, momentum=0.9)\n",
        "model.compile(loss=tf.keras.losses.Huber(),\n",
        "              optimizer=optimizer,\n",
        "              metrics=[\"mae\"])\n",
        "history = model.fit(train_set, epochs=100, callbacks=[lr_schedule])\n",
        "\n",
        "\n"
      ],
      "execution_count": 30,
      "outputs": [
        {
          "output_type": "stream",
          "text": [
            "<PrefetchDataset shapes: ((None, None, 1), (None, None, 1)), types: (tf.float64, tf.float64)>\n",
            "(47448,)\n",
            "Epoch 1/100\n",
            "186/186 [==============================] - 75s 404ms/step - loss: 0.4144 - mae: 0.7916\n",
            "Epoch 2/100\n",
            "186/186 [==============================] - 73s 390ms/step - loss: 0.4144 - mae: 0.7916\n",
            "Epoch 3/100\n",
            "186/186 [==============================] - 70s 375ms/step - loss: 0.4143 - mae: 0.7915\n",
            "Epoch 4/100\n",
            "186/186 [==============================] - 69s 371ms/step - loss: 0.4143 - mae: 0.7914\n",
            "Epoch 5/100\n",
            "186/186 [==============================] - 70s 377ms/step - loss: 0.4142 - mae: 0.7913\n",
            "Epoch 6/100\n",
            "186/186 [==============================] - 70s 374ms/step - loss: 0.4141 - mae: 0.7912\n",
            "Epoch 7/100\n",
            "186/186 [==============================] - 70s 375ms/step - loss: 0.4141 - mae: 0.7911\n",
            "Epoch 8/100\n",
            "186/186 [==============================] - 71s 383ms/step - loss: 0.4140 - mae: 0.7910\n",
            "Epoch 9/100\n",
            "186/186 [==============================] - 72s 390ms/step - loss: 0.4138 - mae: 0.7909\n",
            "Epoch 10/100\n",
            "186/186 [==============================] - 73s 391ms/step - loss: 0.4137 - mae: 0.7907\n",
            "Epoch 11/100\n",
            "186/186 [==============================] - 73s 391ms/step - loss: 0.4136 - mae: 0.7906\n",
            "Epoch 12/100\n",
            "186/186 [==============================] - 73s 393ms/step - loss: 0.4134 - mae: 0.7904\n",
            "Epoch 13/100\n",
            "186/186 [==============================] - 73s 391ms/step - loss: 0.4132 - mae: 0.7901\n",
            "Epoch 14/100\n",
            "186/186 [==============================] - 73s 391ms/step - loss: 0.4130 - mae: 0.7899\n",
            "Epoch 15/100\n",
            "186/186 [==============================] - 74s 395ms/step - loss: 0.4128 - mae: 0.7896\n",
            "Epoch 16/100\n",
            "186/186 [==============================] - 74s 397ms/step - loss: 0.4125 - mae: 0.7892\n",
            "Epoch 17/100\n",
            "186/186 [==============================] - 74s 398ms/step - loss: 0.4122 - mae: 0.7889\n",
            "Epoch 18/100\n",
            "186/186 [==============================] - 74s 398ms/step - loss: 0.4119 - mae: 0.7885\n",
            "Epoch 19/100\n",
            "186/186 [==============================] - 73s 391ms/step - loss: 0.4115 - mae: 0.7880\n",
            "Epoch 20/100\n",
            "186/186 [==============================] - 70s 376ms/step - loss: 0.4111 - mae: 0.7874\n",
            "Epoch 21/100\n",
            "186/186 [==============================] - 68s 368ms/step - loss: 0.4106 - mae: 0.7868\n",
            "Epoch 22/100\n",
            "186/186 [==============================] - 69s 370ms/step - loss: 0.4101 - mae: 0.7862\n",
            "Epoch 23/100\n",
            "186/186 [==============================] - 69s 372ms/step - loss: 0.4095 - mae: 0.7854\n",
            "Epoch 24/100\n",
            "186/186 [==============================] - 73s 394ms/step - loss: 0.4088 - mae: 0.7845\n",
            "Epoch 25/100\n",
            "186/186 [==============================] - 74s 400ms/step - loss: 0.4080 - mae: 0.7836\n",
            "Epoch 26/100\n",
            "186/186 [==============================] - 73s 394ms/step - loss: 0.4072 - mae: 0.7825\n",
            "Epoch 27/100\n",
            "186/186 [==============================] - 73s 393ms/step - loss: 0.4062 - mae: 0.7812\n",
            "Epoch 28/100\n",
            "186/186 [==============================] - 74s 396ms/step - loss: 0.4052 - mae: 0.7799\n",
            "Epoch 29/100\n",
            "186/186 [==============================] - 74s 397ms/step - loss: 0.4040 - mae: 0.7784\n",
            "Epoch 30/100\n",
            "186/186 [==============================] - 73s 393ms/step - loss: 0.4027 - mae: 0.7767\n",
            "Epoch 31/100\n",
            "186/186 [==============================] - 72s 386ms/step - loss: 0.4013 - mae: 0.7748\n",
            "Epoch 32/100\n",
            "186/186 [==============================] - 73s 395ms/step - loss: 0.3997 - mae: 0.7728\n",
            "Epoch 33/100\n",
            "186/186 [==============================] - 72s 385ms/step - loss: 0.3980 - mae: 0.7705\n",
            "Epoch 34/100\n",
            "186/186 [==============================] - 73s 392ms/step - loss: 0.3961 - mae: 0.7681\n",
            "Epoch 35/100\n",
            "186/186 [==============================] - 74s 398ms/step - loss: 0.3941 - mae: 0.7655\n",
            "Epoch 36/100\n",
            "186/186 [==============================] - 73s 391ms/step - loss: 0.3920 - mae: 0.7627\n",
            "Epoch 37/100\n",
            "186/186 [==============================] - 71s 383ms/step - loss: 0.3898 - mae: 0.7598\n",
            "Epoch 38/100\n",
            "186/186 [==============================] - 72s 388ms/step - loss: 0.3875 - mae: 0.7568\n",
            "Epoch 39/100\n",
            "186/186 [==============================] - 73s 394ms/step - loss: 0.3851 - mae: 0.7536\n",
            "Epoch 40/100\n",
            "186/186 [==============================] - 74s 398ms/step - loss: 0.3825 - mae: 0.7503\n",
            "Epoch 41/100\n",
            "186/186 [==============================] - 73s 393ms/step - loss: 0.3798 - mae: 0.7468\n",
            "Epoch 42/100\n",
            "186/186 [==============================] - 72s 385ms/step - loss: 0.3769 - mae: 0.7431\n",
            "Epoch 43/100\n",
            "186/186 [==============================] - 70s 376ms/step - loss: 0.3738 - mae: 0.7392\n",
            "Epoch 44/100\n",
            "186/186 [==============================] - 73s 393ms/step - loss: 0.3704 - mae: 0.7350\n",
            "Epoch 45/100\n",
            "186/186 [==============================] - 74s 399ms/step - loss: 0.3668 - mae: 0.7305\n",
            "Epoch 46/100\n",
            "186/186 [==============================] - 73s 393ms/step - loss: 0.3628 - mae: 0.7256\n",
            "Epoch 47/100\n",
            "186/186 [==============================] - 72s 390ms/step - loss: 0.3584 - mae: 0.7202\n",
            "Epoch 48/100\n",
            "186/186 [==============================] - 72s 385ms/step - loss: 0.3534 - mae: 0.7142\n",
            "Epoch 49/100\n",
            "186/186 [==============================] - 72s 388ms/step - loss: 0.3478 - mae: 0.7073\n",
            "Epoch 50/100\n",
            "186/186 [==============================] - 72s 387ms/step - loss: 0.3412 - mae: 0.6994\n",
            "Epoch 51/100\n",
            "186/186 [==============================] - 74s 395ms/step - loss: 0.3340 - mae: 0.6909\n",
            "Epoch 52/100\n",
            "186/186 [==============================] - 74s 399ms/step - loss: 0.3270 - mae: 0.6830\n",
            "Epoch 53/100\n",
            "186/186 [==============================] - 74s 399ms/step - loss: 0.3203 - mae: 0.6756\n",
            "Epoch 54/100\n",
            "186/186 [==============================] - 74s 399ms/step - loss: 0.3139 - mae: 0.6687\n",
            "Epoch 55/100\n",
            "186/186 [==============================] - 71s 382ms/step - loss: 0.3075 - mae: 0.6619\n",
            "Epoch 56/100\n",
            "186/186 [==============================] - 72s 385ms/step - loss: 0.3012 - mae: 0.6553\n",
            "Epoch 57/100\n",
            "186/186 [==============================] - 72s 388ms/step - loss: 0.2949 - mae: 0.6487\n",
            "Epoch 58/100\n",
            "186/186 [==============================] - 74s 399ms/step - loss: 0.2886 - mae: 0.6422\n",
            "Epoch 59/100\n",
            "186/186 [==============================] - 74s 399ms/step - loss: 0.2825 - mae: 0.6358\n",
            "Epoch 60/100\n",
            "186/186 [==============================] - 75s 404ms/step - loss: 0.2767 - mae: 0.6296\n",
            "Epoch 61/100\n",
            "186/186 [==============================] - 75s 404ms/step - loss: 0.2711 - mae: 0.6237\n",
            "Epoch 62/100\n",
            "186/186 [==============================] - 74s 400ms/step - loss: 0.2658 - mae: 0.6181\n",
            "Epoch 63/100\n",
            "186/186 [==============================] - 73s 395ms/step - loss: 0.2609 - mae: 0.6128\n",
            "Epoch 64/100\n",
            "186/186 [==============================] - 73s 391ms/step - loss: 0.2564 - mae: 0.6079\n",
            "Epoch 65/100\n",
            "186/186 [==============================] - 74s 398ms/step - loss: 0.2523 - mae: 0.6034\n",
            "Epoch 66/100\n",
            "186/186 [==============================] - 74s 398ms/step - loss: 0.2486 - mae: 0.5991\n",
            "Epoch 67/100\n",
            "186/186 [==============================] - 71s 382ms/step - loss: 0.2453 - mae: 0.5951\n",
            "Epoch 68/100\n",
            "186/186 [==============================] - 74s 399ms/step - loss: 0.2422 - mae: 0.5913\n",
            "Epoch 69/100\n",
            "186/186 [==============================] - 74s 397ms/step - loss: 0.2395 - mae: 0.5877\n",
            "Epoch 70/100\n",
            "186/186 [==============================] - 72s 386ms/step - loss: 0.2368 - mae: 0.5841\n",
            "Epoch 71/100\n",
            "186/186 [==============================] - 72s 387ms/step - loss: 0.2340 - mae: 0.5799\n",
            "Epoch 72/100\n",
            "186/186 [==============================] - 72s 388ms/step - loss: 0.2306 - mae: 0.5750\n",
            "Epoch 73/100\n",
            "186/186 [==============================] - 75s 401ms/step - loss: 0.2273 - mae: 0.5703\n",
            "Epoch 74/100\n",
            "186/186 [==============================] - 74s 396ms/step - loss: 0.2241 - mae: 0.5656\n",
            "Epoch 75/100\n",
            "186/186 [==============================] - 73s 395ms/step - loss: 0.2208 - mae: 0.5606\n",
            "Epoch 76/100\n",
            "186/186 [==============================] - 73s 392ms/step - loss: 0.2173 - mae: 0.5552\n",
            "Epoch 77/100\n",
            "186/186 [==============================] - 71s 384ms/step - loss: 0.2129 - mae: 0.5484\n",
            "Epoch 78/100\n",
            "186/186 [==============================] - 73s 392ms/step - loss: 0.2085 - mae: 0.5415\n",
            "Epoch 79/100\n",
            "186/186 [==============================] - 73s 392ms/step - loss: 0.2038 - mae: 0.5340\n",
            "Epoch 80/100\n",
            "186/186 [==============================] - 75s 403ms/step - loss: 0.1986 - mae: 0.5254\n",
            "Epoch 81/100\n",
            "186/186 [==============================] - 73s 391ms/step - loss: 0.1925 - mae: 0.5156\n",
            "Epoch 82/100\n",
            "186/186 [==============================] - 75s 402ms/step - loss: 0.1851 - mae: 0.5033\n",
            "Epoch 83/100\n",
            "186/186 [==============================] - 74s 397ms/step - loss: 0.1752 - mae: 0.4869\n",
            "Epoch 84/100\n",
            "186/186 [==============================] - 74s 396ms/step - loss: 0.1633 - mae: 0.4678\n",
            "Epoch 85/100\n",
            "186/186 [==============================] - 73s 394ms/step - loss: 0.1529 - mae: 0.4511\n",
            "Epoch 86/100\n",
            "186/186 [==============================] - 75s 405ms/step - loss: 0.1430 - mae: 0.4359\n",
            "Epoch 87/100\n",
            "186/186 [==============================] - 75s 406ms/step - loss: 0.1353 - mae: 0.4242\n",
            "Epoch 88/100\n",
            "186/186 [==============================] - 75s 403ms/step - loss: 0.1304 - mae: 0.4158\n",
            "Epoch 89/100\n",
            "186/186 [==============================] - 73s 391ms/step - loss: 0.1266 - mae: 0.4088\n",
            "Epoch 90/100\n",
            "186/186 [==============================] - 73s 391ms/step - loss: 0.1220 - mae: 0.4000\n",
            "Epoch 91/100\n",
            "186/186 [==============================] - 72s 387ms/step - loss: 0.1165 - mae: 0.3893\n",
            "Epoch 92/100\n",
            "186/186 [==============================] - 72s 388ms/step - loss: 0.1121 - mae: 0.3807\n",
            "Epoch 93/100\n",
            "186/186 [==============================] - 75s 402ms/step - loss: 0.1079 - mae: 0.3727\n",
            "Epoch 94/100\n",
            "186/186 [==============================] - 73s 394ms/step - loss: 0.1031 - mae: 0.3631\n",
            "Epoch 95/100\n",
            "186/186 [==============================] - 73s 390ms/step - loss: 0.0982 - mae: 0.3537\n",
            "Epoch 96/100\n",
            "186/186 [==============================] - 73s 394ms/step - loss: 0.0935 - mae: 0.3445\n",
            "Epoch 97/100\n",
            "186/186 [==============================] - 74s 397ms/step - loss: 0.0888 - mae: 0.3351\n",
            "Epoch 98/100\n",
            "186/186 [==============================] - 73s 394ms/step - loss: 0.0836 - mae: 0.3244\n",
            "Epoch 99/100\n",
            "186/186 [==============================] - 75s 401ms/step - loss: 0.0772 - mae: 0.3107\n",
            "Epoch 100/100\n",
            "186/186 [==============================] - 76s 407ms/step - loss: 0.0690 - mae: 0.2919\n"
          ],
          "name": "stdout"
        }
      ]
    },
    {
      "cell_type": "code",
      "metadata": {
        "id": "vVcKmg7Q_7rD",
        "colab_type": "code",
        "outputId": "e6a94a5d-051f-44dd-9ef5-8a695bf5b559",
        "colab": {
          "base_uri": "https://localhost:8080/",
          "height": 292
        }
      },
      "source": [
        "plt.semilogx(history.history[\"lr\"], history.history[\"loss\"])\n",
        "plt.axis([1e-8, 1e-4, 0, 0.5])"
      ],
      "execution_count": 34,
      "outputs": [
        {
          "output_type": "execute_result",
          "data": {
            "text/plain": [
              "[1e-08, 0.0001, 0, 0.5]"
            ]
          },
          "metadata": {
            "tags": []
          },
          "execution_count": 34
        },
        {
          "output_type": "display_data",
          "data": {
            "image/png": "[encoded data removed]",
            "text/plain": [
              "<Figure size 432x288 with 1 Axes>"
            ]
          },
          "metadata": {
            "tags": []
          }
        }
      ]
    },
    {
      "cell_type": "code",
      "metadata": {
        "id": "QsksvkcXAAgq",
        "colab_type": "code",
        "outputId": "6a048087-d9f3-42e4-ba67-d77a1ad9c7b1",
        "colab": {
          "base_uri": "https://localhost:8080/",
          "height": 1000
        }
      },
      "source": [
        "tf.keras.backend.clear_session()\n",
        "tf.random.set_seed(51)\n",
        "np.random.seed(51)\n",
        "train_set = windowed_dataset(x_train, window_size=60, batch_size=100, shuffle_buffer=shuffle_buffer_size)\n",
        "model = tf.keras.models.Sequential([\n",
        "  tf.keras.layers.Conv1D(filters=60, kernel_size=5,\n",
        "                      strides=1, padding=\"causal\",\n",
        "                      activation=\"relu\",\n",
        "                      input_shape=[None, 1]),\n",
        "  tf.keras.layers.LSTM(60, return_sequences=True),\n",
        "  tf.keras.layers.LSTM(60, return_sequences=True),\n",
        "  tf.keras.layers.Dense(30, activation=\"relu\"),\n",
        "  tf.keras.layers.Dense(10, activation=\"relu\"),\n",
        "  tf.keras.layers.Dense(1),\n",
        "  tf.keras.layers.Lambda(lambda x: x * 4)\n",
        "])\n",
        "\n",
        "\n",
        "optimizer = tf.keras.optimizers.SGD(lr=1e-4, momentum=0.9)\n",
        "model.compile(loss=tf.keras.losses.Huber(),\n",
        "              optimizer=optimizer,\n",
        "              metrics=[\"mae\"])\n",
        "history = model.fit(train_set,epochs=150)"
      ],
      "execution_count": 35,
      "outputs": [
        {
          "output_type": "stream",
          "text": [
            "Epoch 1/150\n",
            "474/474 [==============================] - 66s 139ms/step - loss: 0.3374 - mae: 0.7009\n",
            "Epoch 2/150\n",
            "474/474 [==============================] - 66s 139ms/step - loss: 0.2463 - mae: 0.5971\n",
            "Epoch 3/150\n",
            "474/474 [==============================] - 66s 139ms/step - loss: 0.2306 - mae: 0.5771\n",
            "Epoch 4/150\n",
            "474/474 [==============================] - 66s 139ms/step - loss: 0.2159 - mae: 0.5559\n",
            "Epoch 5/150\n",
            "474/474 [==============================] - 66s 138ms/step - loss: 0.1973 - mae: 0.5268\n",
            "Epoch 6/150\n",
            "474/474 [==============================] - 65s 138ms/step - loss: 0.1743 - mae: 0.4910\n",
            "Epoch 7/150\n",
            "474/474 [==============================] - 66s 139ms/step - loss: 0.1502 - mae: 0.4514\n",
            "Epoch 8/150\n",
            "474/474 [==============================] - 66s 140ms/step - loss: 0.1285 - mae: 0.4131\n",
            "Epoch 9/150\n",
            "474/474 [==============================] - 63s 133ms/step - loss: 0.1132 - mae: 0.3854\n",
            "Epoch 10/150\n",
            "474/474 [==============================] - 66s 138ms/step - loss: 0.1041 - mae: 0.3686\n",
            "Epoch 11/150\n",
            "474/474 [==============================] - 65s 137ms/step - loss: 0.0981 - mae: 0.3574\n",
            "Epoch 12/150\n",
            "474/474 [==============================] - 65s 137ms/step - loss: 0.0936 - mae: 0.3487\n",
            "Epoch 13/150\n",
            "474/474 [==============================] - 66s 138ms/step - loss: 0.0899 - mae: 0.3413\n",
            "Epoch 14/150\n",
            "474/474 [==============================] - 65s 137ms/step - loss: 0.0867 - mae: 0.3348\n",
            "Epoch 15/150\n",
            "474/474 [==============================] - 64s 134ms/step - loss: 0.0838 - mae: 0.3287\n",
            "Epoch 16/150\n",
            "474/474 [==============================] - 66s 140ms/step - loss: 0.0812 - mae: 0.3230\n",
            "Epoch 17/150\n",
            "474/474 [==============================] - 66s 140ms/step - loss: 0.0786 - mae: 0.3174\n",
            "Epoch 18/150\n",
            "474/474 [==============================] - 67s 141ms/step - loss: 0.0762 - mae: 0.3120\n",
            "Epoch 19/150\n",
            "474/474 [==============================] - 65s 137ms/step - loss: 0.0738 - mae: 0.3067\n",
            "Epoch 20/150\n",
            "474/474 [==============================] - 64s 135ms/step - loss: 0.0716 - mae: 0.3014\n",
            "Epoch 21/150\n",
            "474/474 [==============================] - 65s 137ms/step - loss: 0.0693 - mae: 0.2962\n",
            "Epoch 22/150\n",
            "474/474 [==============================] - 66s 140ms/step - loss: 0.0672 - mae: 0.2909\n",
            "Epoch 23/150\n",
            "474/474 [==============================] - 67s 141ms/step - loss: 0.0650 - mae: 0.2856\n",
            "Epoch 24/150\n",
            "474/474 [==============================] - 67s 142ms/step - loss: 0.0629 - mae: 0.2804\n",
            "Epoch 25/150\n",
            "474/474 [==============================] - 67s 141ms/step - loss: 0.0609 - mae: 0.2752\n",
            "Epoch 26/150\n",
            "474/474 [==============================] - 64s 135ms/step - loss: 0.0589 - mae: 0.2700\n",
            "Epoch 27/150\n",
            "474/474 [==============================] - 64s 135ms/step - loss: 0.0570 - mae: 0.2648\n",
            "Epoch 28/150\n",
            "474/474 [==============================] - 65s 137ms/step - loss: 0.0551 - mae: 0.2596\n",
            "Epoch 29/150\n",
            "474/474 [==============================] - 66s 140ms/step - loss: 0.0532 - mae: 0.2544\n",
            "Epoch 30/150\n",
            "474/474 [==============================] - 67s 141ms/step - loss: 0.0513 - mae: 0.2491\n",
            "Epoch 31/150\n",
            "474/474 [==============================] - 66s 139ms/step - loss: 0.0495 - mae: 0.2438\n",
            "Epoch 32/150\n",
            "474/474 [==============================] - 66s 140ms/step - loss: 0.0477 - mae: 0.2386\n",
            "Epoch 33/150\n",
            "474/474 [==============================] - 64s 136ms/step - loss: 0.0459 - mae: 0.2335\n",
            "Epoch 34/150\n",
            "474/474 [==============================] - 66s 140ms/step - loss: 0.0443 - mae: 0.2285\n",
            "Epoch 35/150\n",
            "474/474 [==============================] - 67s 141ms/step - loss: 0.0427 - mae: 0.2235\n",
            "Epoch 36/150\n",
            "474/474 [==============================] - 67s 140ms/step - loss: 0.0411 - mae: 0.2187\n",
            "Epoch 37/150\n",
            "474/474 [==============================] - 66s 140ms/step - loss: 0.0396 - mae: 0.2140\n",
            "Epoch 38/150\n",
            "474/474 [==============================] - 63s 133ms/step - loss: 0.0382 - mae: 0.2095\n",
            "Epoch 39/150\n",
            "474/474 [==============================] - 64s 135ms/step - loss: 0.0368 - mae: 0.2051\n",
            "Epoch 40/150\n",
            "474/474 [==============================] - 65s 138ms/step - loss: 0.0355 - mae: 0.2009\n",
            "Epoch 41/150\n",
            "474/474 [==============================] - 63s 133ms/step - loss: 0.0343 - mae: 0.1968\n",
            "Epoch 42/150\n",
            "474/474 [==============================] - 64s 135ms/step - loss: 0.0331 - mae: 0.1928\n",
            "Epoch 43/150\n",
            "474/474 [==============================] - 66s 138ms/step - loss: 0.0319 - mae: 0.1888\n",
            "Epoch 44/150\n",
            "474/474 [==============================] - 66s 139ms/step - loss: 0.0307 - mae: 0.1849\n",
            "Epoch 45/150\n",
            "474/474 [==============================] - 67s 141ms/step - loss: 0.0296 - mae: 0.1812\n",
            "Epoch 46/150\n",
            "474/474 [==============================] - 67s 141ms/step - loss: 0.0286 - mae: 0.1778\n",
            "Epoch 47/150\n",
            "474/474 [==============================] - 64s 136ms/step - loss: 0.0276 - mae: 0.1747\n",
            "Epoch 48/150\n",
            "474/474 [==============================] - 63s 133ms/step - loss: 0.0268 - mae: 0.1718\n",
            "Epoch 49/150\n",
            "474/474 [==============================] - 64s 136ms/step - loss: 0.0260 - mae: 0.1692\n",
            "Epoch 50/150\n",
            "474/474 [==============================] - 65s 138ms/step - loss: 0.0252 - mae: 0.1667\n",
            "Epoch 51/150\n",
            "474/474 [==============================] - 65s 137ms/step - loss: 0.0245 - mae: 0.1643\n",
            "Epoch 52/150\n",
            "474/474 [==============================] - 66s 139ms/step - loss: 0.0239 - mae: 0.1622\n",
            "Epoch 53/150\n",
            "474/474 [==============================] - 66s 139ms/step - loss: 0.0233 - mae: 0.1601\n",
            "Epoch 54/150\n",
            "474/474 [==============================] - 66s 139ms/step - loss: 0.0227 - mae: 0.1583\n",
            "Epoch 55/150\n",
            "474/474 [==============================] - 64s 135ms/step - loss: 0.0222 - mae: 0.1565\n",
            "Epoch 56/150\n",
            "474/474 [==============================] - 62s 130ms/step - loss: 0.0217 - mae: 0.1549\n",
            "Epoch 57/150\n",
            "474/474 [==============================] - 61s 130ms/step - loss: 0.0213 - mae: 0.1534\n",
            "Epoch 58/150\n",
            "474/474 [==============================] - 60s 127ms/step - loss: 0.0209 - mae: 0.1520\n",
            "Epoch 59/150\n",
            "474/474 [==============================] - 59s 125ms/step - loss: 0.0205 - mae: 0.1507\n",
            "Epoch 60/150\n",
            "474/474 [==============================] - 59s 124ms/step - loss: 0.0201 - mae: 0.1495\n",
            "Epoch 61/150\n",
            "474/474 [==============================] - 58s 123ms/step - loss: 0.0198 - mae: 0.1484\n",
            "Epoch 62/150\n",
            "474/474 [==============================] - 59s 124ms/step - loss: 0.0195 - mae: 0.1473\n",
            "Epoch 63/150\n",
            "474/474 [==============================] - 58s 122ms/step - loss: 0.0192 - mae: 0.1463\n",
            "Epoch 64/150\n",
            "474/474 [==============================] - 57s 120ms/step - loss: 0.0189 - mae: 0.1453\n",
            "Epoch 65/150\n",
            "474/474 [==============================] - 57s 120ms/step - loss: 0.0187 - mae: 0.1444\n",
            "Epoch 66/150\n",
            "474/474 [==============================] - 56s 118ms/step - loss: 0.0184 - mae: 0.1436\n",
            "Epoch 67/150\n",
            "474/474 [==============================] - 56s 118ms/step - loss: 0.0182 - mae: 0.1428\n",
            "Epoch 68/150\n",
            "474/474 [==============================] - 58s 123ms/step - loss: 0.0180 - mae: 0.1421\n",
            "Epoch 69/150\n",
            "474/474 [==============================] - 57s 120ms/step - loss: 0.0178 - mae: 0.1414\n",
            "Epoch 70/150\n",
            "474/474 [==============================] - 58s 123ms/step - loss: 0.0176 - mae: 0.1407\n",
            "Epoch 71/150\n",
            "474/474 [==============================] - 58s 121ms/step - loss: 0.0175 - mae: 0.1401\n",
            "Epoch 72/150\n",
            "474/474 [==============================] - 57s 121ms/step - loss: 0.0173 - mae: 0.1395\n",
            "Epoch 73/150\n",
            "474/474 [==============================] - 57s 119ms/step - loss: 0.0171 - mae: 0.1389\n",
            "Epoch 74/150\n",
            "474/474 [==============================] - 57s 120ms/step - loss: 0.0170 - mae: 0.1383\n",
            "Epoch 75/150\n",
            "474/474 [==============================] - 57s 120ms/step - loss: 0.0168 - mae: 0.1377\n",
            "Epoch 76/150\n",
            "474/474 [==============================] - 57s 121ms/step - loss: 0.0167 - mae: 0.1371\n",
            "Epoch 77/150\n",
            "474/474 [==============================] - 57s 121ms/step - loss: 0.0165 - mae: 0.1366\n",
            "Epoch 78/150\n",
            "474/474 [==============================] - 57s 121ms/step - loss: 0.0164 - mae: 0.1361\n",
            "Epoch 79/150\n",
            "474/474 [==============================] - 57s 120ms/step - loss: 0.0163 - mae: 0.1356\n",
            "Epoch 80/150\n",
            "474/474 [==============================] - 56s 119ms/step - loss: 0.0161 - mae: 0.1351\n",
            "Epoch 81/150\n",
            "474/474 [==============================] - 57s 120ms/step - loss: 0.0160 - mae: 0.1346\n",
            "Epoch 82/150\n",
            "474/474 [==============================] - 56s 118ms/step - loss: 0.0159 - mae: 0.1341\n",
            "Epoch 83/150\n",
            "474/474 [==============================] - 55s 117ms/step - loss: 0.0158 - mae: 0.1336\n",
            "Epoch 84/150\n",
            "474/474 [==============================] - 55s 117ms/step - loss: 0.0157 - mae: 0.1332\n",
            "Epoch 85/150\n",
            "474/474 [==============================] - 56s 117ms/step - loss: 0.0156 - mae: 0.1327\n",
            "Epoch 86/150\n",
            "474/474 [==============================] - 56s 117ms/step - loss: 0.0154 - mae: 0.1323\n",
            "Epoch 87/150\n",
            "474/474 [==============================] - 56s 118ms/step - loss: 0.0153 - mae: 0.1318\n",
            "Epoch 88/150\n",
            "474/474 [==============================] - 55s 116ms/step - loss: 0.0152 - mae: 0.1314\n",
            "Epoch 89/150\n",
            "474/474 [==============================] - 55s 117ms/step - loss: 0.0151 - mae: 0.1309\n",
            "Epoch 90/150\n",
            "474/474 [==============================] - 56s 118ms/step - loss: 0.0150 - mae: 0.1305\n",
            "Epoch 91/150\n",
            "474/474 [==============================] - 56s 119ms/step - loss: 0.0149 - mae: 0.1300\n",
            "Epoch 92/150\n",
            "474/474 [==============================] - 57s 119ms/step - loss: 0.0148 - mae: 0.1296\n",
            "Epoch 93/150\n",
            "474/474 [==============================] - 56s 118ms/step - loss: 0.0147 - mae: 0.1291\n",
            "Epoch 94/150\n",
            "474/474 [==============================] - 55s 117ms/step - loss: 0.0146 - mae: 0.1286\n",
            "Epoch 95/150\n",
            "474/474 [==============================] - 56s 117ms/step - loss: 0.0145 - mae: 0.1282\n",
            "Epoch 96/150\n",
            "474/474 [==============================] - 55s 117ms/step - loss: 0.0144 - mae: 0.1277\n",
            "Epoch 97/150\n",
            "474/474 [==============================] - 55s 117ms/step - loss: 0.0143 - mae: 0.1273\n",
            "Epoch 98/150\n",
            "474/474 [==============================] - 56s 118ms/step - loss: 0.0142 - mae: 0.1269\n",
            "Epoch 99/150\n",
            "474/474 [==============================] - 55s 116ms/step - loss: 0.0141 - mae: 0.1265\n",
            "Epoch 100/150\n",
            "474/474 [==============================] - 55s 117ms/step - loss: 0.0141 - mae: 0.1261\n",
            "Epoch 101/150\n",
            "474/474 [==============================] - 55s 116ms/step - loss: 0.0140 - mae: 0.1257\n",
            "Epoch 102/150\n",
            "474/474 [==============================] - 55s 116ms/step - loss: 0.0139 - mae: 0.1253\n",
            "Epoch 103/150\n",
            "474/474 [==============================] - 55s 117ms/step - loss: 0.0138 - mae: 0.1249\n",
            "Epoch 104/150\n",
            "474/474 [==============================] - 55s 117ms/step - loss: 0.0137 - mae: 0.1245\n",
            "Epoch 105/150\n",
            "474/474 [==============================] - 55s 116ms/step - loss: 0.0136 - mae: 0.1242\n",
            "Epoch 106/150\n",
            "474/474 [==============================] - 55s 116ms/step - loss: 0.0136 - mae: 0.1238\n",
            "Epoch 107/150\n",
            "474/474 [==============================] - 55s 116ms/step - loss: 0.0135 - mae: 0.1234\n",
            "Epoch 108/150\n",
            "474/474 [==============================] - 55s 116ms/step - loss: 0.0134 - mae: 0.1230\n",
            "Epoch 109/150\n",
            "474/474 [==============================] - 56s 117ms/step - loss: 0.0133 - mae: 0.1226\n",
            "Epoch 110/150\n",
            "474/474 [==============================] - 55s 116ms/step - loss: 0.0133 - mae: 0.1223\n",
            "Epoch 111/150\n",
            "474/474 [==============================] - 55s 117ms/step - loss: 0.0132 - mae: 0.1219\n",
            "Epoch 112/150\n",
            "474/474 [==============================] - 55s 116ms/step - loss: 0.0131 - mae: 0.1215\n",
            "Epoch 113/150\n",
            "474/474 [==============================] - 55s 116ms/step - loss: 0.0130 - mae: 0.1212\n",
            "Epoch 114/150\n",
            "474/474 [==============================] - 55s 116ms/step - loss: 0.0130 - mae: 0.1208\n",
            "Epoch 115/150\n",
            "474/474 [==============================] - 56s 117ms/step - loss: 0.0129 - mae: 0.1205\n",
            "Epoch 116/150\n",
            "474/474 [==============================] - 55s 116ms/step - loss: 0.0128 - mae: 0.1201\n",
            "Epoch 117/150\n",
            "474/474 [==============================] - 55s 116ms/step - loss: 0.0127 - mae: 0.1198\n",
            "Epoch 118/150\n",
            "474/474 [==============================] - 55s 116ms/step - loss: 0.0127 - mae: 0.1194\n",
            "Epoch 119/150\n",
            "474/474 [==============================] - 55s 115ms/step - loss: 0.0126 - mae: 0.1191\n",
            "Epoch 120/150\n",
            "474/474 [==============================] - 55s 117ms/step - loss: 0.0125 - mae: 0.1187\n",
            "Epoch 121/150\n",
            "474/474 [==============================] - 55s 116ms/step - loss: 0.0125 - mae: 0.1184\n",
            "Epoch 122/150\n",
            "474/474 [==============================] - 55s 116ms/step - loss: 0.0124 - mae: 0.1180\n",
            "Epoch 123/150\n",
            "474/474 [==============================] - 55s 117ms/step - loss: 0.0123 - mae: 0.1177\n",
            "Epoch 124/150\n",
            "474/474 [==============================] - 55s 117ms/step - loss: 0.0123 - mae: 0.1173\n",
            "Epoch 125/150\n",
            "474/474 [==============================] - 56s 117ms/step - loss: 0.0122 - mae: 0.1170\n",
            "Epoch 126/150\n",
            "474/474 [==============================] - 56s 118ms/step - loss: 0.0121 - mae: 0.1167\n",
            "Epoch 127/150\n",
            "474/474 [==============================] - 55s 116ms/step - loss: 0.0121 - mae: 0.1164\n",
            "Epoch 128/150\n",
            "474/474 [==============================] - 55s 117ms/step - loss: 0.0120 - mae: 0.1160\n",
            "Epoch 129/150\n",
            "474/474 [==============================] - 55s 115ms/step - loss: 0.0120 - mae: 0.1157\n",
            "Epoch 130/150\n",
            "474/474 [==============================] - 55s 115ms/step - loss: 0.0119 - mae: 0.1154\n",
            "Epoch 131/150\n",
            "474/474 [==============================] - 55s 116ms/step - loss: 0.0118 - mae: 0.1151\n",
            "Epoch 132/150\n",
            "474/474 [==============================] - 55s 116ms/step - loss: 0.0118 - mae: 0.1148\n",
            "Epoch 133/150\n",
            "474/474 [==============================] - 55s 117ms/step - loss: 0.0117 - mae: 0.1144\n",
            "Epoch 134/150\n",
            "474/474 [==============================] - 55s 116ms/step - loss: 0.0117 - mae: 0.1141\n",
            "Epoch 135/150\n",
            "474/474 [==============================] - 55s 116ms/step - loss: 0.0116 - mae: 0.1138\n",
            "Epoch 136/150\n",
            "474/474 [==============================] - 55s 116ms/step - loss: 0.0115 - mae: 0.1135\n",
            "Epoch 137/150\n",
            "474/474 [==============================] - 55s 117ms/step - loss: 0.0115 - mae: 0.1132\n",
            "Epoch 138/150\n",
            "474/474 [==============================] - 55s 116ms/step - loss: 0.0114 - mae: 0.1129\n",
            "Epoch 139/150\n",
            "474/474 [==============================] - 55s 116ms/step - loss: 0.0114 - mae: 0.1126\n",
            "Epoch 140/150\n",
            "474/474 [==============================] - 55s 116ms/step - loss: 0.0113 - mae: 0.1123\n",
            "Epoch 141/150\n",
            "474/474 [==============================] - 55s 116ms/step - loss: 0.0113 - mae: 0.1120\n",
            "Epoch 142/150\n",
            "474/474 [==============================] - 55s 116ms/step - loss: 0.0112 - mae: 0.1117\n",
            "Epoch 143/150\n",
            "474/474 [==============================] - 55s 117ms/step - loss: 0.0112 - mae: 0.1114\n",
            "Epoch 144/150\n",
            "474/474 [==============================] - 55s 116ms/step - loss: 0.0111 - mae: 0.1111\n",
            "Epoch 145/150\n",
            "474/474 [==============================] - 55s 116ms/step - loss: 0.0110 - mae: 0.1108\n",
            "Epoch 146/150\n",
            "474/474 [==============================] - 55s 115ms/step - loss: 0.0110 - mae: 0.1105\n",
            "Epoch 147/150\n",
            "474/474 [==============================] - 55s 115ms/step - loss: 0.0109 - mae: 0.1103\n",
            "Epoch 148/150\n",
            "474/474 [==============================] - 54s 115ms/step - loss: 0.0109 - mae: 0.1100\n",
            "Epoch 149/150\n",
            "474/474 [==============================] - 55s 116ms/step - loss: 0.0108 - mae: 0.1097\n",
            "Epoch 150/150\n",
            "474/474 [==============================] - 55s 116ms/step - loss: 0.0108 - mae: 0.1094\n"
          ],
          "name": "stdout"
        }
      ]
    },
    {
      "cell_type": "code",
      "metadata": {
        "id": "6NwR7S5nGEd0",
        "colab_type": "code",
        "colab": {
          "base_uri": "https://localhost:8080/",
          "height": 432
        },
        "outputId": "9348fff5-845b-4c0a-df32-35843d14f87e"
      },
      "source": [
        "model.summary()"
      ],
      "execution_count": 37,
      "outputs": [
        {
          "output_type": "stream",
          "text": [
            "Model: \"sequential\"\n",
            "_________________________________________________________________\n",
            "Layer (type)                 Output Shape              Param #   \n",
            "=================================================================\n",
            "conv1d (Conv1D)              (None, None, 60)          360       \n",
            "_________________________________________________________________\n",
            "lstm (LSTM)                  (None, None, 60)          29040     \n",
            "_________________________________________________________________\n",
            "lstm_1 (LSTM)                (None, None, 60)          29040     \n",
            "_________________________________________________________________\n",
            "dense (Dense)                (None, None, 30)          1830      \n",
            "_________________________________________________________________\n",
            "dense_1 (Dense)              (None, None, 10)          310       \n",
            "_________________________________________________________________\n",
            "dense_2 (Dense)              (None, None, 1)           11        \n",
            "_________________________________________________________________\n",
            "lambda (Lambda)              (None, None, 1)           0         \n",
            "=================================================================\n",
            "Total params: 60,591\n",
            "Trainable params: 60,591\n",
            "Non-trainable params: 0\n",
            "_________________________________________________________________\n"
          ],
          "name": "stdout"
        }
      ]
    },
    {
      "cell_type": "code",
      "metadata": {
        "id": "GaC6NNMRp0lb",
        "colab_type": "code",
        "colab": {}
      },
      "source": [
        "rnn_forecast = model_forecast(model, series[..., np.newaxis], window_size)\n",
        "rnn_forecast = rnn_forecast[split_time - window_size:-1, -1, 0]"
      ],
      "execution_count": 0,
      "outputs": []
    },
    {
      "cell_type": "code",
      "metadata": {
        "id": "PrktQX3hKYex",
        "colab_type": "code",
        "outputId": "2f3454d4-71c0-40d3-daa9-1b3f2454618f",
        "colab": {
          "base_uri": "https://localhost:8080/",
          "height": 388
        }
      },
      "source": [
        "plt.figure(figsize=(10, 6))\n",
        "plot_series(time_valid, x_valid)\n",
        "plot_series(time_valid, rnn_forecast)"
      ],
      "execution_count": 39,
      "outputs": [
        {
          "output_type": "display_data",
          "data": {
            "image/png": "[encoded data removed]",
            "text/plain": [
              "<Figure size 720x432 with 1 Axes>"
            ]
          },
          "metadata": {
            "tags": []
          }
        }
      ]
    },
    {
      "cell_type": "code",
      "metadata": {
        "id": "13XrorC5wQoE",
        "colab_type": "code",
        "outputId": "2b80444d-8e85-480e-b6f5-5d4b59fd079d",
        "colab": {
          "base_uri": "https://localhost:8080/",
          "height": 36
        }
      },
      "source": [
        "tf.keras.metrics.mean_absolute_error(x_valid, rnn_forecast).numpy()"
      ],
      "execution_count": 40,
      "outputs": [
        {
          "output_type": "execute_result",
          "data": {
            "text/plain": [
              "0.066686064"
            ]
          },
          "metadata": {
            "tags": []
          },
          "execution_count": 40
        }
      ]
    },
    {
      "cell_type": "code",
      "metadata": {
        "id": "K1_B3ugldAsQ",
        "colab_type": "code",
        "colab": {
          "base_uri": "https://localhost:8080/",
          "height": 36
        },
        "outputId": "bf47e039-9cb4-4525-cbdd-c9a6583ba5bf"
      },
      "source": [
        "tf.keras.metrics.mean_absolute_percentage_error(x_valid, rnn_forecast).numpy()"
      ],
      "execution_count": 42,
      "outputs": [
        {
          "output_type": "execute_result",
          "data": {
            "text/plain": [
              "20.746065"
            ]
          },
          "metadata": {
            "tags": []
          },
          "execution_count": 42
        }
      ]
    },
    {
      "cell_type": "code",
      "metadata": {
        "id": "AOVzQXxCwkzP",
        "colab_type": "code",
        "outputId": "349e4ec3-2855-4458-9091-6752cbc05c7c",
        "colab": {
          "base_uri": "https://localhost:8080/",
          "height": 92
        }
      },
      "source": [
        "print(rnn_forecast[:20])"
      ],
      "execution_count": 43,
      "outputs": [
        {
          "output_type": "stream",
          "text": [
            "[-0.78571826 -0.9727602  -1.0127937  -0.93623435 -0.8423249  -0.7073857\n",
            " -0.49754268 -0.1261636   0.20890278  0.45708853  0.6311253   0.55331594\n",
            "  0.44585425  0.4087121   0.5459214   0.67796725  0.6745848   0.5979163\n",
            "  0.7605856   0.8926826 ]\n"
          ],
          "name": "stdout"
        }
      ]
    },
    {
      "cell_type": "code",
      "metadata": {
        "id": "dEH8-OiSc0m6",
        "colab_type": "code",
        "colab": {
          "base_uri": "https://localhost:8080/",
          "height": 92
        },
        "outputId": "3e5b05ca-4f91-4eb7-8fe7-2e47641120b8"
      },
      "source": [
        "print(x_valid[:20])"
      ],
      "execution_count": 45,
      "outputs": [
        {
          "output_type": "stream",
          "text": [
            "[-0.69832796 -0.84842171 -0.89125326 -0.92484552 -0.87824981 -0.74853302\n",
            " -0.3994685  -0.05063211  0.32409712  0.61670742  0.63270102  0.61933092\n",
            "  0.55059838  0.64898792  0.69458149  0.67813163  0.64274692  0.87078806\n",
            "  0.98357429  0.91398625]\n"
          ],
          "name": "stdout"
        }
      ]
    },
    {
      "cell_type": "code",
      "metadata": {
        "id": "_X4etER9hC1g",
        "colab_type": "code",
        "colab": {}
      },
      "source": [
        ""
      ],
      "execution_count": 0,
      "outputs": []
    }
  ]
}
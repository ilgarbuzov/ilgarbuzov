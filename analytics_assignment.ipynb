{
  "nbformat": 4,
  "nbformat_minor": 0,
  "metadata": {
    "colab": {
      "name": "analytics_assignment.ipynb",
      "provenance": [],
      "collapsed_sections": [],
      "include_colab_link": true
    },
    "kernelspec": {
      "name": "python3",
      "display_name": "Python 3"
    }
  },
  "cells": [
    {
      "cell_type": "markdown",
      "metadata": {
        "id": "view-in-github",
        "colab_type": "text"
      },
      "source": [
        "<a href=\"https://colab.research.google.com/github/ilgarbuzov/interview_tests/blob/master/analytics_assignment.ipynb\" target=\"_parent\"><img src=\"https://colab.research.google.com/assets/colab-badge.svg\" alt=\"Open In Colab\"/></a>"
      ]
    },
    {
      "cell_type": "markdown",
      "metadata": {
        "id": "Wqg6xPgnMRnd",
        "colab_type": "text"
      },
      "source": [
        "#Assignment description\n",
        "\n",
        "**Prerequisites**:\n",
        "\n",
        "1. Authorize with your Google account\n",
        "2. Go to Google Cloud Console\n",
        "3. Select existing Google Cloud project or create a new one\n",
        "4. Enable Google BigQuery API for the selected project\n",
        "5. Copy this document to your google drive\n",
        "\n",
        "**Implementation**:\n",
        "1. Complete all assignments in this document\n",
        "2. Share your variant of the document with us"
      ]
    },
    {
      "cell_type": "code",
      "metadata": {
        "id": "80_ej4yqjefV",
        "colab_type": "code",
        "colab": {
          "base_uri": "https://localhost:8080/",
          "height": 34
        },
        "outputId": "e61d0215-e2e7-40c0-a23f-8c4ac139d738"
      },
      "source": [
        "#run this cell first\n",
        "import numpy as np\n",
        "import pandas as pd\n",
        "from google.colab import auth\n",
        "auth.authenticate_user()\n",
        "print('Authenticated')"
      ],
      "execution_count": null,
      "outputs": [
        {
          "output_type": "stream",
          "text": [
            "Authenticated\n"
          ],
          "name": "stdout"
        }
      ]
    },
    {
      "cell_type": "markdown",
      "metadata": {
        "id": "_7yL4EGdM54N",
        "colab_type": "text"
      },
      "source": [
        "#Assignment #1\n",
        "Prepare SQL which converts raw hits (user events) into sessions.\n",
        "\n",
        "Count the number of sessions in the result table.\n",
        "\n",
        "**In**:\n",
        " - [Session definition](https://support.google.com/analytics/answer/2731565?hl=en)\n",
        " - Public table with samle hits data: `analytics-230012.Assignments.hits_for_sessions`\n",
        " - Use your Google Cloud project ID instead of  `project_id`"
      ]
    },
    {
      "cell_type": "code",
      "metadata": {
        "id": "oBInDP1psHzG",
        "colab_type": "code",
        "colab": {
          "base_uri": "https://localhost:8080/",
          "height": 136
        },
        "outputId": "2fa702be-45bb-4b54-f420-f6be0916987c"
      },
      "source": [
        "query = '''\n",
        "SELECT *  FROM `analytics-230012.Assignments.hits_for_sessions` #example\n",
        "'''\n",
        "\n",
        "project_id = 'animated-graph-280813' #change\n",
        "\n",
        "df = pd.io.gbq.read_gbq(query, project_id=project_id, verbose=False, dialect='standard')\n",
        "df.head(3)"
      ],
      "execution_count": null,
      "outputs": [
        {
          "output_type": "execute_result",
          "data": {
            "text/html": [
              "<div>\n",
              "<style scoped>\n",
              "    .dataframe tbody tr th:only-of-type {\n",
              "        vertical-align: middle;\n",
              "    }\n",
              "\n",
              "    .dataframe tbody tr th {\n",
              "        vertical-align: top;\n",
              "    }\n",
              "\n",
              "    .dataframe thead th {\n",
              "        text-align: right;\n",
              "    }\n",
              "</style>\n",
              "<table border=\"1\" class=\"dataframe\">\n",
              "  <thead>\n",
              "    <tr style=\"text-align: right;\">\n",
              "      <th></th>\n",
              "      <th>hitId</th>\n",
              "      <th>anonymousId</th>\n",
              "      <th>hitTime</th>\n",
              "      <th>utm_campaign</th>\n",
              "      <th>utm_source</th>\n",
              "      <th>utm_medium</th>\n",
              "    </tr>\n",
              "  </thead>\n",
              "  <tbody>\n",
              "    <tr>\n",
              "      <th>0</th>\n",
              "      <td>0a0a29e0-0c2d-11e8-b6de-ffc22b5b4218</td>\n",
              "      <td>0129fa30-0c2d-11e8-8bc5-d9061171bfdd</td>\n",
              "      <td>2018-02-07 17:33:42.265000+00:00</td>\n",
              "      <td>None</td>\n",
              "      <td>None</td>\n",
              "      <td>None</td>\n",
              "    </tr>\n",
              "    <tr>\n",
              "      <th>1</th>\n",
              "      <td>0a09b4b0-0c2d-11e8-b6de-ffc22b5b4218</td>\n",
              "      <td>0129fa30-0c2d-11e8-8bc5-d9061171bfdd</td>\n",
              "      <td>2018-02-07 17:33:42.267999+00:00</td>\n",
              "      <td>None</td>\n",
              "      <td>None</td>\n",
              "      <td>None</td>\n",
              "    </tr>\n",
              "    <tr>\n",
              "      <th>2</th>\n",
              "      <td>12320610-0c2d-11e8-a454-493f16c454c9</td>\n",
              "      <td>0129fa30-0c2d-11e8-8bc5-d9061171bfdd</td>\n",
              "      <td>2018-02-07 17:33:55.938999+00:00</td>\n",
              "      <td>None</td>\n",
              "      <td>None</td>\n",
              "      <td>None</td>\n",
              "    </tr>\n",
              "  </tbody>\n",
              "</table>\n",
              "</div>"
            ],
            "text/plain": [
              "                                  hitId  ... utm_medium\n",
              "0  0a0a29e0-0c2d-11e8-b6de-ffc22b5b4218  ...       None\n",
              "1  0a09b4b0-0c2d-11e8-b6de-ffc22b5b4218  ...       None\n",
              "2  12320610-0c2d-11e8-a454-493f16c454c9  ...       None\n",
              "\n",
              "[3 rows x 6 columns]"
            ]
          },
          "metadata": {
            "tags": []
          },
          "execution_count": 10
        }
      ]
    },
    {
      "cell_type": "code",
      "metadata": {
        "id": "MwiUbvc4gRWO",
        "colab_type": "code",
        "colab": {
          "base_uri": "https://localhost:8080/",
          "height": 77
        },
        "outputId": "5d02f5c9-beff-41d8-9c97-c4814dc3d8ce"
      },
      "source": [
        "query = '''\n",
        "#Start your query here\n",
        "#SELECT *  FROM `analytics-230012.Assignments.hits_for_sessions` #example\n",
        "\n",
        "    SELECT count(*)\n",
        "     FROM (\n",
        "        SELECT *,\n",
        "                  LAG(hitTime, 1) OVER\n",
        "                      (PARTITION BY anonymousId ORDER BY hitTime) AS last_event\n",
        "              FROM `analytics-230012.Assignments.hits_for_sessions`\n",
        "        ) last\n",
        "          WHERE TIMESTAMP_DIFF(hitTime, last_event, second) >= (60 * 30) AND TIMESTAMP_DIFF(hitTime, last_event, day) = 0\n",
        "              OR last_event IS NULL\n",
        "\n",
        "#Finish your query here\n",
        "'''\n",
        "\n",
        "project_id = 'animated-graph-280813' #change\n",
        "\n",
        "df = pd.io.gbq.read_gbq(query, project_id=project_id, verbose=False, dialect='standard')\n",
        "df.head()"
      ],
      "execution_count": null,
      "outputs": [
        {
          "output_type": "execute_result",
          "data": {
            "text/html": [
              "<div>\n",
              "<style scoped>\n",
              "    .dataframe tbody tr th:only-of-type {\n",
              "        vertical-align: middle;\n",
              "    }\n",
              "\n",
              "    .dataframe tbody tr th {\n",
              "        vertical-align: top;\n",
              "    }\n",
              "\n",
              "    .dataframe thead th {\n",
              "        text-align: right;\n",
              "    }\n",
              "</style>\n",
              "<table border=\"1\" class=\"dataframe\">\n",
              "  <thead>\n",
              "    <tr style=\"text-align: right;\">\n",
              "      <th></th>\n",
              "      <th>f0_</th>\n",
              "    </tr>\n",
              "  </thead>\n",
              "  <tbody>\n",
              "    <tr>\n",
              "      <th>0</th>\n",
              "      <td>605</td>\n",
              "    </tr>\n",
              "  </tbody>\n",
              "</table>\n",
              "</div>"
            ],
            "text/plain": [
              "   f0_\n",
              "0  605"
            ]
          },
          "metadata": {
            "tags": []
          },
          "execution_count": 3
        }
      ]
    },
    {
      "cell_type": "markdown",
      "metadata": {
        "id": "7XX4hym9Qfx2",
        "colab_type": "text"
      },
      "source": [
        "#Assignment #2\n",
        "Count all the users matching the following criteria:\n",
        "- Have multiple transactions\n",
        "- Have at least one transaction that was made within 7 days from the previous transaction\n",
        "\n",
        "**In**:\n",
        " - Public table with samle transactions data: `analytics-230012.Assignments.orders`\n",
        " - Use your Google Cloud project ID instead of  `project_id`"
      ]
    },
    {
      "cell_type": "code",
      "metadata": {
        "id": "_ZT-KxHeus0o",
        "colab_type": "code",
        "colab": {
          "base_uri": "https://localhost:8080/",
          "height": 195
        },
        "outputId": "a308f34e-d368-421b-a5b3-ada1da33bf8a"
      },
      "source": [
        "query = '''\n",
        "SELECT * FROM `analytics-230012.Assignments.orders` #example\n",
        "'''\n",
        "\n",
        "project_id = 'animated-graph-280813' #change\n",
        "\n",
        "df = pd.io.gbq.read_gbq(query, project_id=project_id, verbose=False, dialect='standard')\n",
        "df.head()"
      ],
      "execution_count": null,
      "outputs": [
        {
          "output_type": "execute_result",
          "data": {
            "text/html": [
              "<div>\n",
              "<style scoped>\n",
              "    .dataframe tbody tr th:only-of-type {\n",
              "        vertical-align: middle;\n",
              "    }\n",
              "\n",
              "    .dataframe tbody tr th {\n",
              "        vertical-align: top;\n",
              "    }\n",
              "\n",
              "    .dataframe thead th {\n",
              "        text-align: right;\n",
              "    }\n",
              "</style>\n",
              "<table border=\"1\" class=\"dataframe\">\n",
              "  <thead>\n",
              "    <tr style=\"text-align: right;\">\n",
              "      <th></th>\n",
              "      <th>userId</th>\n",
              "      <th>orderId</th>\n",
              "      <th>date</th>\n",
              "    </tr>\n",
              "  </thead>\n",
              "  <tbody>\n",
              "    <tr>\n",
              "      <th>0</th>\n",
              "      <td>8</td>\n",
              "      <td>275256</td>\n",
              "      <td>2016-09-16 11:32:06</td>\n",
              "    </tr>\n",
              "    <tr>\n",
              "      <th>1</th>\n",
              "      <td>30</td>\n",
              "      <td>278443</td>\n",
              "      <td>2016-10-12 11:35:47</td>\n",
              "    </tr>\n",
              "    <tr>\n",
              "      <th>2</th>\n",
              "      <td>30</td>\n",
              "      <td>280430</td>\n",
              "      <td>2016-10-27 14:22:39</td>\n",
              "    </tr>\n",
              "    <tr>\n",
              "      <th>3</th>\n",
              "      <td>30</td>\n",
              "      <td>BK86661</td>\n",
              "      <td>2017-06-15 08:36:14</td>\n",
              "    </tr>\n",
              "    <tr>\n",
              "      <th>4</th>\n",
              "      <td>30</td>\n",
              "      <td>EDB87580-81C6-43EC-B7C0-19F1C7DB1DD4</td>\n",
              "      <td>2017-01-04 14:50:36</td>\n",
              "    </tr>\n",
              "  </tbody>\n",
              "</table>\n",
              "</div>"
            ],
            "text/plain": [
              "  userId                               orderId                date\n",
              "0      8                                275256 2016-09-16 11:32:06\n",
              "1     30                                278443 2016-10-12 11:35:47\n",
              "2     30                                280430 2016-10-27 14:22:39\n",
              "3     30                               BK86661 2017-06-15 08:36:14\n",
              "4     30  EDB87580-81C6-43EC-B7C0-19F1C7DB1DD4 2017-01-04 14:50:36"
            ]
          },
          "metadata": {
            "tags": []
          },
          "execution_count": 7
        }
      ]
    },
    {
      "cell_type": "code",
      "metadata": {
        "id": "6dvC5exCg8kf",
        "colab_type": "code",
        "colab": {
          "base_uri": "https://localhost:8080/",
          "height": 77
        },
        "outputId": "5ab81437-a14a-4639-ae43-978d7c0cb990"
      },
      "source": [
        "query = '''\n",
        "#Start your query here\n",
        "\n",
        "  #SELECT * FROM `analytics-230012.Assignments.orders` #example\n",
        " \n",
        "SELECT count(*) from(\n",
        "    SELECT userId\n",
        "          FROM (\n",
        "                SELECT *, LAG(date, 1) OVER\n",
        "                          (PARTITION BY userId ORDER BY date) AS lastDate\n",
        "                FROM `analytics-230012.Assignments.orders` \n",
        "                )  last\n",
        "          WHERE DATETIME_DIFF(date, lastDate, day) <=7\n",
        "                  group by userId\n",
        ")             \n",
        "        \n",
        "\n",
        "#Finish your query here\n",
        "'''\n",
        "\n",
        "project_id = 'animated-graph-280813' #change\n",
        "\n",
        "df = pd.io.gbq.read_gbq(query, project_id=project_id, verbose=False, dialect='standard')\n",
        "df.head()"
      ],
      "execution_count": null,
      "outputs": [
        {
          "output_type": "execute_result",
          "data": {
            "text/html": [
              "<div>\n",
              "<style scoped>\n",
              "    .dataframe tbody tr th:only-of-type {\n",
              "        vertical-align: middle;\n",
              "    }\n",
              "\n",
              "    .dataframe tbody tr th {\n",
              "        vertical-align: top;\n",
              "    }\n",
              "\n",
              "    .dataframe thead th {\n",
              "        text-align: right;\n",
              "    }\n",
              "</style>\n",
              "<table border=\"1\" class=\"dataframe\">\n",
              "  <thead>\n",
              "    <tr style=\"text-align: right;\">\n",
              "      <th></th>\n",
              "      <th>f0_</th>\n",
              "    </tr>\n",
              "  </thead>\n",
              "  <tbody>\n",
              "    <tr>\n",
              "      <th>0</th>\n",
              "      <td>1624</td>\n",
              "    </tr>\n",
              "  </tbody>\n",
              "</table>\n",
              "</div>"
            ],
            "text/plain": [
              "    f0_\n",
              "0  1624"
            ]
          },
          "metadata": {
            "tags": []
          },
          "execution_count": 13
        }
      ]
    },
    {
      "cell_type": "markdown",
      "metadata": {
        "id": "gv8v8XdLXtyd",
        "colab_type": "text"
      },
      "source": [
        "#Assignment #3\n",
        "Below you can see a matrix. We highlighted few sequences of 5 neighbour numbers in different directions. There are 4 directions: vertical, horizontal, diagonal1(left,down -> right,up), diagonal2(left,up -> right,down).\n",
        " - Product of 5 horizontal numbers example: 38 x 88 x 57 x 19 x 22 = 79674144\n",
        " - Product of 5 diagonal1 numbers example: 84 x 58 x 83 x 10 x 90 = 363938400\n",
        "\n",
        "**What is the maximum product for any sequence?**\n",
        "\n",
        "![alt text](https://drive.google.com/uc?export=view&id=1TGORTF_ffAeu5ujS5s461U2kkzUErN3w)"
      ]
    },
    {
      "cell_type": "code",
      "metadata": {
        "id": "F-Y1J1CFMQfD",
        "colab_type": "code",
        "colab": {
          "base_uri": "https://localhost:8080/",
          "height": 34
        },
        "outputId": "9a75af09-bf06-48c0-d4a6-45931b57db5c"
      },
      "source": [
        "def largestProduct(arr, n): \n",
        "\n",
        "\tmaxProduct = 0\n",
        "\n",
        "\t# iterate the rows. \n",
        "\tfor i in range(n): \n",
        "\n",
        "\t\t# iterate the columns. \n",
        "\t\tfor j in range( n): \n",
        "\n",
        "\t\t\t# check the maximum product \n",
        "\t\t\t# in horizontal row. \n",
        "\t\t\tif ((j - 4) >= 0): \n",
        "\t\t\t\tresult = (arr[i][j] * arr[i][j - 1] *\n",
        "\t\t\t\t\t\tarr[i][j - 2] * arr[i][j - 3] * arr[i][j - 4]) \n",
        "\t\t\t\t\n",
        "\t\t\t\tif (maxProduct < result): \n",
        "\t\t\t\t\tmaxProduct = result\n",
        "                    \n",
        "\t\t\t# check the maximum product \n",
        "\t\t\t# in vertical row. \n",
        "\t\t\tif ((i - 4) >= 0) : \n",
        "\t\t\t\tresult = (arr[i][j] * arr[i - 1][j] *\n",
        "\t\t\t\t\t\tarr[i - 2][j] * arr[i - 3][j] * arr[i - 4][j]) \n",
        "\t\t\t\t\n",
        "\t\t\t\tif (maxProduct < result): \n",
        "\t\t\t\t\tmaxProduct = result\n",
        "                    \n",
        "            # check the maximum product in \n",
        "\t\t\t# diagonal going through down - right \n",
        "\t\t\tif ((i - 4) >= 0 and (j - 4) >= 0): \n",
        "\t\t\t\tresult = (arr[i][j] * arr[i - 1][j - 1] *\n",
        "\t\t\t\t\t\tarr[i - 2][j - 2] * arr[i - 3][j - 3] * arr[i - 4][j - 4]) \n",
        "\t\t\t\t\n",
        "\t\t\t\tif (maxProduct < result): \n",
        "\t\t\t\t\tmaxProduct = result\n",
        "\n",
        "            # check the maximum product in \n",
        "\t\t\t# diagonal going through up - right \n",
        "\t\t\tif ((i - 4) >= 0 and (j - 1) <= 0): \n",
        "\t\t\t\tresult = (arr[i][j] * arr[i - 1][j + 1] *\n",
        "\t\t\t\t\t\tarr[i - 2][j + 2] * arr[i - 3][j + 3]  * arr[i - 4][j + 4]) \n",
        "\n",
        "\t\t\t\tif (maxProduct < result): \n",
        "\t\t\t\t\tmaxProduct = result\n",
        "                    \n",
        "\n",
        "\treturn maxProduct\n",
        "\n",
        "\n",
        "matrix = [[30, 90, 80, 36, 44, 66, 42, 34, 65, 52, 88, 26, 79, 81, 55, 92, 37, 37, 4, 84],\n",
        "        [93, 4, 92, 3, 37, 87, 93, 84, 94, 62, 55, 7, 88, 86, 9, 33, 70, 78, 9, 61],\n",
        "        [72, 2, 2, 37, 38, 88, 57, 19, 22, 82, 71, 53, 14, 60, 73, 5, 45, 77, 76, 57],\n",
        "        [32, 34, 77, 55, 39, 93, 36, 95, 65, 32, 95, 90, 53, 71, 97, 70, 85, 38, 72, 37],\n",
        "        [37, 53, 33, 97, 41, 1, 77, 7, 68, 10, 1, 45, 21, 94, 9, 80, 98, 45, 89, 87],\n",
        "        [19, 12, 58, 2, 27, 83, 70, 12, 75, 12, 36, 43, 15, 79, 40, 90, 91, 74, 58, 84],\n",
        "        [45, 34, 34, 29, 14, 89, 51, 65, 87, 24, 78, 26, 94, 82, 64, 75, 14, 9, 76, 26],\n",
        "        [86, 30, 86, 21, 30, 0, 57, 90, 11, 0, 41, 48, 8, 38, 37, 41, 85, 84, 46, 74],\n",
        "        [61, 83, 37, 84, 98, 44, 10, 32, 8, 18, 68, 36, 43, 49, 26, 28, 47, 37, 81, 23],\n",
        "        [39, 74, 1, 51, 73, 83, 85, 41, 82, 25, 3, 32, 16, 15, 66, 51, 37, 68, 47, 28],\n",
        "        [78, 68, 27, 37, 58, 88, 63, 54, 89, 11, 56, 47, 20, 57, 58, 7, 7, 36, 26, 20],\n",
        "        [11, 36, 87, 84, 82, 68, 12, 16, 37, 16, 0, 50, 96, 25, 53, 0, 27, 78, 0, 57],\n",
        "        [4, 70, 6, 96, 92, 0, 96, 15, 24, 32, 13, 49, 61, 52, 30, 38, 3, 77, 43, 17],\n",
        "        [45, 78, 70, 45, 10, 61, 60, 71, 0, 18, 91, 27, 0, 4, 66, 72, 7, 74, 89, 73],\n",
        "        [94, 97, 29, 25, 89, 67, 91, 65, 17, 27, 51, 61, 86, 21, 95, 79, 1, 54, 89, 80],\n",
        "        [59, 90, 72, 94, 60, 3, 39, 61, 69, 49, 52, 89, 50, 74, 84, 56, 50, 86, 68, 26],\n",
        "        [66, 47, 67, 78, 68, 65, 20, 83, 78, 37, 19, 52, 16, 76, 12, 25, 35, 81, 26, 81],\n",
        "        [67, 3, 31, 26, 27, 61, 36, 84, 19, 53, 77, 69, 40, 13, 91, 78, 0, 54, 94, 2],\n",
        "        [20, 59, 70, 91, 74, 39, 90, 55, 53, 74, 12, 79, 48, 40, 1, 73, 6, 68, 56, 40],\n",
        "        [7, 33, 59, 64, 84, 25, 89, 38, 19, 29, 93, 77, 46, 86, 45, 93, 63, 96, 53, 29]]\n",
        "\t\t\t\t\n",
        "\n",
        "\n",
        "'''30 90 80 36 44 66 42 34 65 52 88 26 79 81 55 92 37 37 04 84\n",
        "93 04 92 03 37 87 93 84 94 62 55 07 88 86 09 33 70 78 09 61\n",
        "72 02 02 37 38 88 57 19 22 82 71 53 14 60 73 05 45 77 76 57\n",
        "32 34 77 55 39 93 36 95 65 32 95 90 53 71 97 70 85 38 72 37\n",
        "37 53 33 97 41 01 77 07 68 10 01 45 21 94 09 80 98 45 89 87\n",
        "19 12 58 02 27 83 70 12 75 12 36 43 15 79 40 90 91 74 58 84\n",
        "45 34 34 29 14 89 51 65 87 24 78 26 94 82 64 75 14 09 76 26\n",
        "86 30 86 21 30 00 57 90 11 00 41 48 08 38 37 41 85 84 46 74\n",
        "61 83 37 84 98 44 10 32 08 18 68 36 43 49 26 28 47 37 81 23\n",
        "39 74 01 51 73 83 85 41 82 25 03 32 16 15 66 51 37 68 47 28\n",
        "78 68 27 37 58 88 63 54 89 11 56 47 20 57 58 07 07 36 26 20\n",
        "11 36 87 84 82 68 12 16 37 16 00 50 96 25 53 00 27 78 00 57\n",
        "04 70 06 96 92 00 96 15 24 32 13 49 61 52 30 38 03 77 43 17\n",
        "45 78 70 45 10 61 60 71 00 18 91 27 00 04 66 72 07 74 89 73\n",
        "94 97 29 25 89 67 91 65 17 27 51 61 86 21 95 79 01 54 89 80\n",
        "59 90 72 94 60 03 39 61 69 49 52 89 50 74 84 56 50 86 68 26\n",
        "66 47 67 78 68 65 20 83 78 37 19 52 16 76 12 25 35 81 26 81\n",
        "67 03 31 26 27 61 36 84 19 53 77 69 40 13 91 78 00 54 94 02\n",
        "20 59 70 91 74 39 90 55 53 74 12 79 48 40 01 73 06 68 56 40\n",
        "07 33 59 64 84 25 89 38 19 29 93 77 46 86 45 93 63 96 53 29'''\n",
        "\n",
        "print(largestProduct(matrix, 20))\n",
        "#type(matrix)"
      ],
      "execution_count": null,
      "outputs": [
        {
          "output_type": "stream",
          "text": [
            "4703677440\n"
          ],
          "name": "stdout"
        }
      ]
    },
    {
      "cell_type": "code",
      "metadata": {
        "id": "xbm0Q7Sqtd4H",
        "colab_type": "code",
        "colab": {}
      },
      "source": [
        ""
      ],
      "execution_count": null,
      "outputs": []
    }
  ]
}